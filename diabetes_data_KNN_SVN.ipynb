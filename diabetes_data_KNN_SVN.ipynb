{
 "cells": [
  {
   "cell_type": "markdown",
   "metadata": {},
   "source": [
    "# Diabetes & You"
   ]
  },
  {
   "cell_type": "code",
   "execution_count": 11,
   "metadata": {},
   "outputs": [],
   "source": [
    "import numpy as np\n",
    "import pandas as pd\n",
    "import matplotlib.pyplot as plt\n",
    "from sklearn.neighbors import KNeighborsClassifier\n",
    "import seaborn as sns\n",
    "from sklearn.metrics import accuracy_score,confusion_matrix\n",
    "%matplotlib inline\n",
    "from scipy.stats import linregress\n",
    "from sklearn import datasets\n",
    "from sklearn.ensemble import RandomForestClassifier\n",
    "from sklearn import tree\n",
    "import pandas as pd\n",
    "import os"
   ]
  },
  {
   "cell_type": "markdown",
   "metadata": {},
   "source": [
    "# Read the CSV and Perform Basic Data Cleaning"
   ]
  },
  {
   "cell_type": "code",
   "execution_count": 12,
   "metadata": {},
   "outputs": [
    {
     "data": {
      "text/html": [
       "<div>\n",
       "<style scoped>\n",
       "    .dataframe tbody tr th:only-of-type {\n",
       "        vertical-align: middle;\n",
       "    }\n",
       "\n",
       "    .dataframe tbody tr th {\n",
       "        vertical-align: top;\n",
       "    }\n",
       "\n",
       "    .dataframe thead th {\n",
       "        text-align: right;\n",
       "    }\n",
       "</style>\n",
       "<table border=\"1\" class=\"dataframe\">\n",
       "  <thead>\n",
       "    <tr style=\"text-align: right;\">\n",
       "      <th></th>\n",
       "      <th>Age</th>\n",
       "      <th>Gender</th>\n",
       "      <th>Polyuria</th>\n",
       "      <th>Polydipsia</th>\n",
       "      <th>sudden weight loss</th>\n",
       "      <th>weakness</th>\n",
       "      <th>Polyphagia</th>\n",
       "      <th>Genital thrush</th>\n",
       "      <th>visual blurring</th>\n",
       "      <th>Itching</th>\n",
       "      <th>Irritability</th>\n",
       "      <th>delayed healing</th>\n",
       "      <th>partial paresis</th>\n",
       "      <th>muscle stiffness</th>\n",
       "      <th>Alopecia</th>\n",
       "      <th>Obesity</th>\n",
       "      <th>class</th>\n",
<<<<<<< HEAD
=======
       "    </tr>\n",
       "  </thead>\n",
       "  <tbody>\n",
       "    <tr>\n",
       "      <th>0</th>\n",
       "      <td>40</td>\n",
       "      <td>Male</td>\n",
       "      <td>No</td>\n",
       "      <td>Yes</td>\n",
       "      <td>No</td>\n",
       "      <td>Yes</td>\n",
       "      <td>No</td>\n",
       "      <td>No</td>\n",
       "      <td>No</td>\n",
       "      <td>Yes</td>\n",
       "      <td>No</td>\n",
       "      <td>Yes</td>\n",
       "      <td>No</td>\n",
       "      <td>Yes</td>\n",
       "      <td>Yes</td>\n",
       "      <td>Yes</td>\n",
       "      <td>Positive</td>\n",
>>>>>>> dc3a1e4a7aa5b733c77f61b64a895fd1bb753baf
       "    </tr>\n",
       "  </thead>\n",
       "  <tbody>\n",
       "    <tr>\n",
<<<<<<< HEAD
       "      <th>0</th>\n",
       "      <td>40</td>\n",
       "      <td>Male</td>\n",
       "      <td>No</td>\n",
       "      <td>Yes</td>\n",
       "      <td>No</td>\n",
=======
       "      <th>1</th>\n",
       "      <td>58</td>\n",
       "      <td>Male</td>\n",
       "      <td>No</td>\n",
       "      <td>No</td>\n",
       "      <td>No</td>\n",
       "      <td>Yes</td>\n",
       "      <td>No</td>\n",
       "      <td>No</td>\n",
>>>>>>> dc3a1e4a7aa5b733c77f61b64a895fd1bb753baf
       "      <td>Yes</td>\n",
       "      <td>No</td>\n",
       "      <td>No</td>\n",
       "      <td>No</td>\n",
       "      <td>Yes</td>\n",
       "      <td>No</td>\n",
       "      <td>Yes</td>\n",
       "      <td>No</td>\n",
<<<<<<< HEAD
       "      <td>Yes</td>\n",
       "      <td>Yes</td>\n",
       "      <td>Yes</td>\n",
       "      <td>Positive</td>\n",
       "    </tr>\n",
       "    <tr>\n",
       "      <th>1</th>\n",
       "      <td>58</td>\n",
       "      <td>Male</td>\n",
       "      <td>No</td>\n",
       "      <td>No</td>\n",
       "      <td>No</td>\n",
=======
       "      <td>Positive</td>\n",
       "    </tr>\n",
       "    <tr>\n",
       "      <th>2</th>\n",
       "      <td>41</td>\n",
       "      <td>Male</td>\n",
>>>>>>> dc3a1e4a7aa5b733c77f61b64a895fd1bb753baf
       "      <td>Yes</td>\n",
       "      <td>No</td>\n",
       "      <td>No</td>\n",
       "      <td>Yes</td>\n",
<<<<<<< HEAD
       "      <td>No</td>\n",
       "      <td>No</td>\n",
=======
       "      <td>Yes</td>\n",
       "      <td>No</td>\n",
       "      <td>No</td>\n",
       "      <td>Yes</td>\n",
>>>>>>> dc3a1e4a7aa5b733c77f61b64a895fd1bb753baf
       "      <td>No</td>\n",
       "      <td>Yes</td>\n",
       "      <td>No</td>\n",
       "      <td>Yes</td>\n",
<<<<<<< HEAD
=======
       "      <td>Yes</td>\n",
>>>>>>> dc3a1e4a7aa5b733c77f61b64a895fd1bb753baf
       "      <td>No</td>\n",
       "      <td>Positive</td>\n",
       "    </tr>\n",
       "    <tr>\n",
<<<<<<< HEAD
       "      <th>2</th>\n",
       "      <td>41</td>\n",
       "      <td>Male</td>\n",
       "      <td>Yes</td>\n",
=======
       "      <th>3</th>\n",
       "      <td>45</td>\n",
       "      <td>Male</td>\n",
>>>>>>> dc3a1e4a7aa5b733c77f61b64a895fd1bb753baf
       "      <td>No</td>\n",
       "      <td>No</td>\n",
       "      <td>Yes</td>\n",
       "      <td>Yes</td>\n",
<<<<<<< HEAD
       "      <td>No</td>\n",
       "      <td>No</td>\n",
       "      <td>Yes</td>\n",
       "      <td>No</td>\n",
       "      <td>Yes</td>\n",
       "      <td>No</td>\n",
       "      <td>Yes</td>\n",
       "      <td>Yes</td>\n",
       "      <td>No</td>\n",
       "      <td>Positive</td>\n",
       "    </tr>\n",
       "    <tr>\n",
       "      <th>3</th>\n",
       "      <td>45</td>\n",
       "      <td>Male</td>\n",
       "      <td>No</td>\n",
       "      <td>No</td>\n",
       "      <td>Yes</td>\n",
       "      <td>Yes</td>\n",
       "      <td>Yes</td>\n",
       "      <td>Yes</td>\n",
       "      <td>No</td>\n",
       "      <td>Yes</td>\n",
       "      <td>No</td>\n",
       "      <td>Yes</td>\n",
       "      <td>No</td>\n",
       "      <td>No</td>\n",
       "      <td>No</td>\n",
       "      <td>No</td>\n",
       "      <td>Positive</td>\n",
       "    </tr>\n",
       "    <tr>\n",
=======
       "      <td>Yes</td>\n",
       "      <td>Yes</td>\n",
       "      <td>No</td>\n",
       "      <td>Yes</td>\n",
       "      <td>No</td>\n",
       "      <td>Yes</td>\n",
       "      <td>No</td>\n",
       "      <td>No</td>\n",
       "      <td>No</td>\n",
       "      <td>No</td>\n",
       "      <td>Positive</td>\n",
       "    </tr>\n",
       "    <tr>\n",
>>>>>>> dc3a1e4a7aa5b733c77f61b64a895fd1bb753baf
       "      <th>4</th>\n",
       "      <td>60</td>\n",
       "      <td>Male</td>\n",
       "      <td>Yes</td>\n",
       "      <td>Yes</td>\n",
       "      <td>Yes</td>\n",
       "      <td>Yes</td>\n",
       "      <td>Yes</td>\n",
       "      <td>No</td>\n",
       "      <td>Yes</td>\n",
       "      <td>Yes</td>\n",
       "      <td>Yes</td>\n",
       "      <td>Yes</td>\n",
       "      <td>Yes</td>\n",
       "      <td>Yes</td>\n",
       "      <td>Yes</td>\n",
       "      <td>Yes</td>\n",
       "      <td>Positive</td>\n",
       "    </tr>\n",
       "  </tbody>\n",
       "</table>\n",
       "</div>"
      ],
      "text/plain": [
       "   Age Gender Polyuria Polydipsia sudden weight loss weakness Polyphagia  \\\n",
       "0   40   Male       No        Yes                 No      Yes         No   \n",
       "1   58   Male       No         No                 No      Yes         No   \n",
       "2   41   Male      Yes         No                 No      Yes        Yes   \n",
       "3   45   Male       No         No                Yes      Yes        Yes   \n",
       "4   60   Male      Yes        Yes                Yes      Yes        Yes   \n",
       "\n",
       "  Genital thrush visual blurring Itching Irritability delayed healing  \\\n",
       "0             No              No     Yes           No             Yes   \n",
       "1             No             Yes      No           No              No   \n",
       "2             No              No     Yes           No             Yes   \n",
       "3            Yes              No     Yes           No             Yes   \n",
       "4             No             Yes     Yes          Yes             Yes   \n",
       "\n",
       "  partial paresis muscle stiffness Alopecia Obesity     class  \n",
       "0              No              Yes      Yes     Yes  Positive  \n",
       "1             Yes               No      Yes      No  Positive  \n",
       "2              No              Yes      Yes      No  Positive  \n",
       "3              No               No       No      No  Positive  \n",
       "4             Yes              Yes      Yes     Yes  Positive  "
      ]
     },
     "execution_count": 12,
     "metadata": {},
     "output_type": "execute_result"
    }
   ],
   "source": [
    "df = pd.read_csv(os.path.join(\"diabetes_best_data.csv\"))\n",
    "df.head()"
   ]
  },
  {
   "cell_type": "code",
   "execution_count": 13,
   "metadata": {
    "scrolled": false
   },
   "outputs": [
    {
     "data": {
      "text/html": [
       "<div>\n",
       "<style scoped>\n",
       "    .dataframe tbody tr th:only-of-type {\n",
       "        vertical-align: middle;\n",
       "    }\n",
       "\n",
       "    .dataframe tbody tr th {\n",
       "        vertical-align: top;\n",
       "    }\n",
       "\n",
       "    .dataframe thead th {\n",
       "        text-align: right;\n",
       "    }\n",
       "</style>\n",
       "<table border=\"1\" class=\"dataframe\">\n",
       "  <thead>\n",
       "    <tr style=\"text-align: right;\">\n",
       "      <th></th>\n",
       "      <th>Age</th>\n",
       "      <th>Gender</th>\n",
       "      <th>Polyuria</th>\n",
       "      <th>Polydipsia</th>\n",
       "      <th>sudden weight loss</th>\n",
       "      <th>weakness</th>\n",
       "      <th>Polyphagia</th>\n",
       "      <th>Genital thrush</th>\n",
       "      <th>visual blurring</th>\n",
       "      <th>Itching</th>\n",
       "      <th>Irritability</th>\n",
       "      <th>delayed healing</th>\n",
       "      <th>partial paresis</th>\n",
       "      <th>muscle stiffness</th>\n",
       "      <th>Alopecia</th>\n",
       "      <th>Obesity</th>\n",
       "      <th>class</th>\n",
       "    </tr>\n",
       "  </thead>\n",
       "  <tbody>\n",
       "    <tr>\n",
       "      <th>515</th>\n",
       "      <td>39</td>\n",
       "      <td>Female</td>\n",
       "      <td>Yes</td>\n",
       "      <td>Yes</td>\n",
       "      <td>Yes</td>\n",
       "      <td>No</td>\n",
       "      <td>Yes</td>\n",
       "      <td>No</td>\n",
       "      <td>No</td>\n",
       "      <td>Yes</td>\n",
       "      <td>No</td>\n",
       "      <td>Yes</td>\n",
       "      <td>Yes</td>\n",
       "      <td>No</td>\n",
       "      <td>No</td>\n",
       "      <td>No</td>\n",
       "      <td>Positive</td>\n",
       "    </tr>\n",
       "    <tr>\n",
       "      <th>516</th>\n",
       "      <td>48</td>\n",
       "      <td>Female</td>\n",
       "      <td>Yes</td>\n",
       "      <td>Yes</td>\n",
       "      <td>Yes</td>\n",
       "      <td>Yes</td>\n",
       "      <td>Yes</td>\n",
       "      <td>No</td>\n",
       "      <td>No</td>\n",
       "      <td>Yes</td>\n",
       "      <td>Yes</td>\n",
       "      <td>Yes</td>\n",
       "      <td>Yes</td>\n",
       "      <td>No</td>\n",
       "      <td>No</td>\n",
       "      <td>No</td>\n",
       "      <td>Positive</td>\n",
       "    </tr>\n",
       "    <tr>\n",
       "      <th>517</th>\n",
       "      <td>58</td>\n",
       "      <td>Female</td>\n",
       "      <td>Yes</td>\n",
       "      <td>Yes</td>\n",
       "      <td>Yes</td>\n",
       "      <td>Yes</td>\n",
       "      <td>Yes</td>\n",
       "      <td>No</td>\n",
       "      <td>Yes</td>\n",
       "      <td>No</td>\n",
       "      <td>No</td>\n",
       "      <td>No</td>\n",
       "      <td>Yes</td>\n",
       "      <td>Yes</td>\n",
       "      <td>No</td>\n",
       "      <td>Yes</td>\n",
       "      <td>Positive</td>\n",
       "    </tr>\n",
       "    <tr>\n",
       "      <th>518</th>\n",
       "      <td>32</td>\n",
       "      <td>Female</td>\n",
       "      <td>No</td>\n",
       "      <td>No</td>\n",
       "      <td>No</td>\n",
       "      <td>Yes</td>\n",
       "      <td>No</td>\n",
       "      <td>No</td>\n",
       "      <td>Yes</td>\n",
       "      <td>Yes</td>\n",
       "      <td>No</td>\n",
       "      <td>Yes</td>\n",
       "      <td>No</td>\n",
       "      <td>No</td>\n",
       "      <td>Yes</td>\n",
       "      <td>No</td>\n",
       "      <td>Negative</td>\n",
       "    </tr>\n",
       "    <tr>\n",
       "      <th>519</th>\n",
       "      <td>42</td>\n",
       "      <td>Male</td>\n",
       "      <td>No</td>\n",
       "      <td>No</td>\n",
       "      <td>No</td>\n",
       "      <td>No</td>\n",
       "      <td>No</td>\n",
       "      <td>No</td>\n",
       "      <td>No</td>\n",
       "      <td>No</td>\n",
       "      <td>No</td>\n",
       "      <td>No</td>\n",
       "      <td>No</td>\n",
       "      <td>No</td>\n",
       "      <td>No</td>\n",
       "      <td>No</td>\n",
       "      <td>Negative</td>\n",
       "    </tr>\n",
       "  </tbody>\n",
       "</table>\n",
       "</div>"
      ],
      "text/plain": [
       "     Age  Gender Polyuria Polydipsia sudden weight loss weakness Polyphagia  \\\n",
       "515   39  Female      Yes        Yes                Yes       No        Yes   \n",
       "516   48  Female      Yes        Yes                Yes      Yes        Yes   \n",
       "517   58  Female      Yes        Yes                Yes      Yes        Yes   \n",
       "518   32  Female       No         No                 No      Yes         No   \n",
       "519   42    Male       No         No                 No       No         No   \n",
       "\n",
       "    Genital thrush visual blurring Itching Irritability delayed healing  \\\n",
       "515             No              No     Yes           No             Yes   \n",
       "516             No              No     Yes          Yes             Yes   \n",
       "517             No             Yes      No           No              No   \n",
       "518             No             Yes     Yes           No             Yes   \n",
       "519             No              No      No           No              No   \n",
       "\n",
       "    partial paresis muscle stiffness Alopecia Obesity     class  \n",
       "515             Yes               No       No      No  Positive  \n",
       "516             Yes               No       No      No  Positive  \n",
       "517             Yes              Yes       No     Yes  Positive  \n",
       "518              No               No      Yes      No  Negative  \n",
       "519              No               No       No      No  Negative  "
      ]
     },
     "execution_count": 13,
     "metadata": {},
     "output_type": "execute_result"
    }
   ],
   "source": [
    "#End of dataframe\n",
    "df.tail()"
   ]
  },
  {
   "cell_type": "code",
   "execution_count": 14,
   "metadata": {},
   "outputs": [
    {
     "data": {
      "text/plain": [
       "Index(['Age', 'Gender', 'Polyuria', 'Polydipsia', 'sudden weight loss',\n",
       "       'weakness', 'Polyphagia', 'Genital thrush', 'visual blurring',\n",
       "       'Itching', 'Irritability', 'delayed healing', 'partial paresis',\n",
       "       'muscle stiffness', 'Alopecia', 'Obesity', 'class'],\n",
       "      dtype='object')"
      ]
     },
     "execution_count": 14,
     "metadata": {},
     "output_type": "execute_result"
    }
   ],
   "source": [
    "df.columns"
   ]
  },
  {
   "cell_type": "code",
   "execution_count": 15,
   "metadata": {},
   "outputs": [
    {
     "data": {
      "text/plain": [
       "(520, 17)"
      ]
     },
     "execution_count": 15,
     "metadata": {},
     "output_type": "execute_result"
    }
   ],
   "source": [
    "df.shape"
   ]
  },
  {
   "cell_type": "code",
   "execution_count": 16,
   "metadata": {},
   "outputs": [
    {
     "data": {
      "text/plain": [
       "520"
      ]
     },
     "execution_count": 16,
     "metadata": {},
     "output_type": "execute_result"
    }
   ],
   "source": [
    "#number of items in datafram\n",
    "len(df)"
   ]
  },
  {
   "cell_type": "code",
   "execution_count": 17,
   "metadata": {},
   "outputs": [
    {
     "data": {
      "text/plain": [
       "(2, 8840)"
      ]
     },
     "execution_count": 17,
     "metadata": {},
     "output_type": "execute_result"
    }
   ],
   "source": [
    "#number dimension of data\n",
    "df.ndim,df.size"
   ]
  },
  {
   "cell_type": "code",
   "execution_count": 18,
   "metadata": {},
   "outputs": [
    {
     "data": {
      "text/plain": [
       "Age                   0\n",
       "Gender                0\n",
       "Polyuria              0\n",
       "Polydipsia            0\n",
       "sudden weight loss    0\n",
       "weakness              0\n",
       "Polyphagia            0\n",
       "Genital thrush        0\n",
       "visual blurring       0\n",
       "Itching               0\n",
       "Irritability          0\n",
       "delayed healing       0\n",
       "partial paresis       0\n",
       "muscle stiffness      0\n",
       "Alopecia              0\n",
       "Obesity               0\n",
       "class                 0\n",
       "dtype: int64"
      ]
     },
     "execution_count": 18,
     "metadata": {},
     "output_type": "execute_result"
    }
   ],
   "source": [
    "#Detect missing values\n",
    "df.isna().sum()"
   ]
  },
  {
   "cell_type": "code",
   "execution_count": 19,
   "metadata": {
    "scrolled": true
   },
   "outputs": [
    {
     "name": "stdout",
     "output_type": "stream",
     "text": [
      "<class 'pandas.core.frame.DataFrame'>\n",
      "RangeIndex: 520 entries, 0 to 519\n",
      "Data columns (total 17 columns):\n",
      " #   Column              Non-Null Count  Dtype \n",
      "---  ------              --------------  ----- \n",
      " 0   Age                 520 non-null    int64 \n",
      " 1   Gender              520 non-null    object\n",
      " 2   Polyuria            520 non-null    object\n",
      " 3   Polydipsia          520 non-null    object\n",
      " 4   sudden weight loss  520 non-null    object\n",
      " 5   weakness            520 non-null    object\n",
      " 6   Polyphagia          520 non-null    object\n",
      " 7   Genital thrush      520 non-null    object\n",
      " 8   visual blurring     520 non-null    object\n",
      " 9   Itching             520 non-null    object\n",
      " 10  Irritability        520 non-null    object\n",
      " 11  delayed healing     520 non-null    object\n",
      " 12  partial paresis     520 non-null    object\n",
      " 13  muscle stiffness    520 non-null    object\n",
      " 14  Alopecia            520 non-null    object\n",
      " 15  Obesity             520 non-null    object\n",
      " 16  class               520 non-null    object\n",
      "dtypes: int64(1), object(16)\n",
      "memory usage: 69.2+ KB\n"
     ]
    }
   ],
   "source": [
    "df.info()"
   ]
  },
  {
   "cell_type": "code",
   "execution_count": 20,
   "metadata": {},
   "outputs": [],
   "source": [
    "df['Gender'] = df['Gender'].map({'Male':1,'Female':0})\n",
    "df['class'] = df['class'].map({'Positive':1,'Negative':0})\n",
    "df['Polyuria'] = df['Polyuria'].map({'Yes':1,'No':0})\n",
    "df['Polydipsia'] = df['Polydipsia'].map({'Yes':1,'No':0})\n",
    "df['sudden weight loss'] = df['sudden weight loss'].map({'Yes':1,'No':0})\n",
    "df['weakness'] = df['weakness'].map({'Yes':1,'No':0})\n",
    "df['Polyphagia'] = df['Polyphagia'].map({'Yes':1,'No':0})\n",
    "df['Genital thrush'] = df['Genital thrush'].map({'Yes':1,'No':0})\n",
    "df['visual blurring'] = df['visual blurring'].map({'Yes':1,'No':0})\n",
    "df['Itching'] = df['Itching'].map({'Yes':1,'No':0})\n",
    "df['Irritability'] = df['Irritability'].map({'Yes':1,'No':0})\n",
    "df['delayed healing'] = df['delayed healing'].map({'Yes':1,'No':0})\n",
    "df['partial paresis'] = df['partial paresis'].map({'Yes':1,'No':0})\n",
    "df['muscle stiffness'] = df['muscle stiffness'].map({'Yes':1,'No':0})\n",
    "df['Alopecia'] = df['Alopecia'].map({'Yes':1,'No':0})\n",
    "df['Obesity'] = df['Obesity'].map({'Yes':1,'No':0})"
   ]
  },
  {
   "cell_type": "code",
<<<<<<< HEAD
   "execution_count": 21,
=======
   "execution_count": 11,
>>>>>>> dc3a1e4a7aa5b733c77f61b64a895fd1bb753baf
   "metadata": {
    "scrolled": true
   },
   "outputs": [
    {
     "data": {
      "text/plain": [
       "1    320\n",
       "0    200\n",
       "Name: class, dtype: int64"
      ]
     },
<<<<<<< HEAD
     "execution_count": 21,
=======
     "execution_count": 11,
>>>>>>> dc3a1e4a7aa5b733c77f61b64a895fd1bb753baf
     "metadata": {},
     "output_type": "execute_result"
    }
   ],
   "source": [
    "df[\"class\"].value_counts()"
   ]
  },
  {
   "cell_type": "code",
<<<<<<< HEAD
   "execution_count": 22,
=======
   "execution_count": 12,
>>>>>>> dc3a1e4a7aa5b733c77f61b64a895fd1bb753baf
   "metadata": {},
   "outputs": [],
   "source": [
    "target = df[\"class\"]\n",
    "target_names = ['negative', 'positive']"
   ]
  },
  {
   "cell_type": "code",
<<<<<<< HEAD
   "execution_count": 23,
=======
   "execution_count": 13,
>>>>>>> dc3a1e4a7aa5b733c77f61b64a895fd1bb753baf
   "metadata": {
    "scrolled": false
   },
   "outputs": [
    {
     "data": {
      "text/html": [
       "<div>\n",
       "<style scoped>\n",
       "    .dataframe tbody tr th:only-of-type {\n",
       "        vertical-align: middle;\n",
       "    }\n",
       "\n",
       "    .dataframe tbody tr th {\n",
       "        vertical-align: top;\n",
       "    }\n",
       "\n",
       "    .dataframe thead th {\n",
       "        text-align: right;\n",
       "    }\n",
       "</style>\n",
       "<table border=\"1\" class=\"dataframe\">\n",
       "  <thead>\n",
       "    <tr style=\"text-align: right;\">\n",
       "      <th></th>\n",
       "      <th>Age</th>\n",
       "      <th>Gender</th>\n",
       "      <th>Polyuria</th>\n",
       "      <th>Polydipsia</th>\n",
       "      <th>sudden weight loss</th>\n",
       "      <th>weakness</th>\n",
       "      <th>Polyphagia</th>\n",
       "      <th>Genital thrush</th>\n",
       "      <th>visual blurring</th>\n",
       "      <th>Itching</th>\n",
       "      <th>Irritability</th>\n",
       "      <th>delayed healing</th>\n",
       "      <th>partial paresis</th>\n",
       "      <th>muscle stiffness</th>\n",
       "      <th>Alopecia</th>\n",
       "      <th>Obesity</th>\n",
       "    </tr>\n",
       "  </thead>\n",
       "  <tbody>\n",
       "    <tr>\n",
       "      <th>0</th>\n",
       "      <td>40</td>\n",
       "      <td>1</td>\n",
       "      <td>0</td>\n",
       "      <td>1</td>\n",
       "      <td>0</td>\n",
       "      <td>1</td>\n",
       "      <td>0</td>\n",
       "      <td>0</td>\n",
       "      <td>0</td>\n",
       "      <td>1</td>\n",
       "      <td>0</td>\n",
       "      <td>1</td>\n",
       "      <td>0</td>\n",
       "      <td>1</td>\n",
       "      <td>1</td>\n",
       "      <td>1</td>\n",
       "    </tr>\n",
       "    <tr>\n",
       "      <th>1</th>\n",
       "      <td>58</td>\n",
       "      <td>1</td>\n",
       "      <td>0</td>\n",
       "      <td>0</td>\n",
       "      <td>0</td>\n",
       "      <td>1</td>\n",
       "      <td>0</td>\n",
       "      <td>0</td>\n",
       "      <td>1</td>\n",
       "      <td>0</td>\n",
       "      <td>0</td>\n",
       "      <td>0</td>\n",
       "      <td>1</td>\n",
       "      <td>0</td>\n",
       "      <td>1</td>\n",
       "      <td>0</td>\n",
       "    </tr>\n",
       "    <tr>\n",
       "      <th>2</th>\n",
       "      <td>41</td>\n",
       "      <td>1</td>\n",
       "      <td>1</td>\n",
       "      <td>0</td>\n",
       "      <td>0</td>\n",
       "      <td>1</td>\n",
       "      <td>1</td>\n",
       "      <td>0</td>\n",
       "      <td>0</td>\n",
       "      <td>1</td>\n",
       "      <td>0</td>\n",
       "      <td>1</td>\n",
       "      <td>0</td>\n",
       "      <td>1</td>\n",
       "      <td>1</td>\n",
       "      <td>0</td>\n",
       "    </tr>\n",
       "    <tr>\n",
       "      <th>3</th>\n",
       "      <td>45</td>\n",
       "      <td>1</td>\n",
       "      <td>0</td>\n",
       "      <td>0</td>\n",
       "      <td>1</td>\n",
       "      <td>1</td>\n",
       "      <td>1</td>\n",
       "      <td>1</td>\n",
       "      <td>0</td>\n",
       "      <td>1</td>\n",
       "      <td>0</td>\n",
       "      <td>1</td>\n",
       "      <td>0</td>\n",
       "      <td>0</td>\n",
       "      <td>0</td>\n",
       "      <td>0</td>\n",
       "    </tr>\n",
       "    <tr>\n",
       "      <th>4</th>\n",
       "      <td>60</td>\n",
       "      <td>1</td>\n",
       "      <td>1</td>\n",
       "      <td>1</td>\n",
       "      <td>1</td>\n",
       "      <td>1</td>\n",
       "      <td>1</td>\n",
       "      <td>0</td>\n",
       "      <td>1</td>\n",
       "      <td>1</td>\n",
       "      <td>1</td>\n",
       "      <td>1</td>\n",
       "      <td>1</td>\n",
       "      <td>1</td>\n",
       "      <td>1</td>\n",
       "      <td>1</td>\n",
       "    </tr>\n",
       "  </tbody>\n",
       "</table>\n",
       "</div>"
      ],
      "text/plain": [
       "   Age  Gender  Polyuria  Polydipsia  sudden weight loss  weakness  \\\n",
       "0   40       1         0           1                   0         1   \n",
       "1   58       1         0           0                   0         1   \n",
       "2   41       1         1           0                   0         1   \n",
       "3   45       1         0           0                   1         1   \n",
       "4   60       1         1           1                   1         1   \n",
       "\n",
       "   Polyphagia  Genital thrush  visual blurring  Itching  Irritability  \\\n",
       "0           0               0                0        1             0   \n",
       "1           0               0                1        0             0   \n",
       "2           1               0                0        1             0   \n",
       "3           1               1                0        1             0   \n",
       "4           1               0                1        1             1   \n",
       "\n",
       "   delayed healing  partial paresis  muscle stiffness  Alopecia  Obesity  \n",
       "0                1                0                 1         1        1  \n",
       "1                0                1                 0         1        0  \n",
       "2                1                0                 1         1        0  \n",
       "3                1                0                 0         0        0  \n",
       "4                1                1                 1         1        1  "
      ]
     },
<<<<<<< HEAD
     "execution_count": 23,
=======
     "execution_count": 13,
>>>>>>> dc3a1e4a7aa5b733c77f61b64a895fd1bb753baf
     "metadata": {},
     "output_type": "execute_result"
    }
   ],
   "source": [
    "data = df.drop(\"class\", axis=1)\n",
    "feature_names = data.columns\n",
    "data.head()"
   ]
  },
  {
   "cell_type": "markdown",
   "metadata": {},
   "source": [
    "# create a train and test split\n",
    "    \n"
   ]
  },
  {
   "cell_type": "code",
<<<<<<< HEAD
   "execution_count": 24,
=======
   "execution_count": 14,
>>>>>>> dc3a1e4a7aa5b733c77f61b64a895fd1bb753baf
   "metadata": {},
   "outputs": [],
   "source": [
    "from sklearn.model_selection import train_test_split\n",
    "X_train, X_test, y_train, y_test = train_test_split(data, target, random_state=42)"
   ]
  },
  {
   "cell_type": "markdown",
   "metadata": {},
   "source": [
    "# training KNN the model\n"
   ]
  },
  {
   "cell_type": "code",
<<<<<<< HEAD
   "execution_count": 25,
=======
   "execution_count": 15,
>>>>>>> dc3a1e4a7aa5b733c77f61b64a895fd1bb753baf
   "metadata": {},
   "outputs": [],
   "source": [
    "#K nearest neighbor\n",
    "from sklearn.neighbors import KNeighborsClassifier\n",
    "knn_model = KNeighborsClassifier(n_neighbors=5, metric=\"manhattan\")\n",
    "knn_model.fit(X_train, y_train)\n",
    "#Making predictions\n",
    "prediction = knn_model.predict(X_test)\n",
    "predict_knn = knn_model.score(X_train, y_train)\n",
    "test_score = knn_model.score(X_test, y_test)"
   ]
  },
  {
   "cell_type": "code",
<<<<<<< HEAD
   "execution_count": 26,
=======
   "execution_count": 16,
>>>>>>> dc3a1e4a7aa5b733c77f61b64a895fd1bb753baf
   "metadata": {},
   "outputs": [
    {
     "name": "stdout",
     "output_type": "stream",
     "text": [
      "0.9256410256410257\n"
     ]
    }
   ],
   "source": [
    "print(predict_knn)"
   ]
  },
  {
   "cell_type": "code",
<<<<<<< HEAD
   "execution_count": 27,
=======
   "execution_count": 17,
>>>>>>> dc3a1e4a7aa5b733c77f61b64a895fd1bb753baf
   "metadata": {},
   "outputs": [
    {
     "name": "stdout",
     "output_type": "stream",
     "text": [
      "0.8692307692307693\n"
     ]
    }
   ],
   "source": [
    "print(test_score)"
   ]
  },
  {
   "cell_type": "code",
<<<<<<< HEAD
   "execution_count": 28,
=======
   "execution_count": 18,
>>>>>>> dc3a1e4a7aa5b733c77f61b64a895fd1bb753baf
   "metadata": {},
   "outputs": [],
   "source": [
    "knn_confusionmatrix=confusion_matrix(y_test, prediction)"
   ]
  },
  {
   "cell_type": "code",
<<<<<<< HEAD
   "execution_count": 29,
=======
   "execution_count": 19,
>>>>>>> dc3a1e4a7aa5b733c77f61b64a895fd1bb753baf
   "metadata": {},
   "outputs": [
    {
     "name": "stdout",
     "output_type": "stream",
     "text": [
      "[[44  2]\n",
      " [15 69]]\n"
     ]
    },
    {
     "data": {
      "text/plain": [
       "Text(0.5, 0, 'Predicted Label')"
      ]
     },
<<<<<<< HEAD
     "execution_count": 29,
=======
     "execution_count": 19,
>>>>>>> dc3a1e4a7aa5b733c77f61b64a895fd1bb753baf
     "metadata": {},
     "output_type": "execute_result"
    },
    {
     "data": {
<<<<<<< HEAD
      "image/png": "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\n",
=======
      "image/png": "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\n",
>>>>>>> dc3a1e4a7aa5b733c77f61b64a895fd1bb753baf
      "text/plain": [
       "<Figure size 288x288 with 2 Axes>"
      ]
     },
     "metadata": {
      "needs_background": "light"
     },
     "output_type": "display_data"
    }
   ],
   "source": [
    "print(knn_confusionmatrix)\n",
    "plt.matshow(knn_confusionmatrix)\n",
    "plt.title(\"Confusion Matrix for KNN\")\n",
    "plt.colorbar()\n",
    "plt.ylabel(\"True Label\")\n",
    "plt.xlabel(\"Predicted Label\")"
   ]
  },
  {
   "cell_type": "markdown",
   "metadata": {},
   "source": [
    "# GridSeach - Model"
   ]
  },
  {
   "cell_type": "code",
<<<<<<< HEAD
   "execution_count": 30,
=======
   "execution_count": 20,
>>>>>>> dc3a1e4a7aa5b733c77f61b64a895fd1bb753baf
   "metadata": {},
   "outputs": [],
   "source": [
    "from sklearn.model_selection import GridSearchCV\n",
    "k_range = list(range(1, 25))\n",
    "param_grid = dict(n_neighbors=k_range)\n",
    "grid = GridSearchCV(knn_model, param_grid, cv=5, scoring='accuracy')"
   ]
  },
  {
   "cell_type": "markdown",
   "metadata": {},
   "source": [
    "# Fit the Model"
   ]
  },
  {
   "cell_type": "code",
<<<<<<< HEAD
   "execution_count": 31,
=======
   "execution_count": 21,
>>>>>>> dc3a1e4a7aa5b733c77f61b64a895fd1bb753baf
   "metadata": {},
   "outputs": [
    {
     "data": {
      "text/plain": [
       "GridSearchCV(cv=5, estimator=KNeighborsClassifier(metric='manhattan'),\n",
       "             param_grid={'n_neighbors': [1, 2, 3, 4, 5, 6, 7, 8, 9, 10, 11, 12,\n",
       "                                         13, 14, 15, 16, 17, 18, 19, 20, 21, 22,\n",
       "                                         23, 24]},\n",
       "             scoring='accuracy')"
      ]
     },
<<<<<<< HEAD
     "execution_count": 31,
=======
     "execution_count": 21,
>>>>>>> dc3a1e4a7aa5b733c77f61b64a895fd1bb753baf
     "metadata": {},
     "output_type": "execute_result"
    }
   ],
   "source": [
    "grid.fit(X_train, y_train)"
   ]
  },
  {
   "cell_type": "code",
<<<<<<< HEAD
   "execution_count": 32,
=======
   "execution_count": 22,
>>>>>>> dc3a1e4a7aa5b733c77f61b64a895fd1bb753baf
   "metadata": {
    "scrolled": true
   },
   "outputs": [
    {
     "name": "stdout",
     "output_type": "stream",
     "text": [
      "{'n_neighbors': 1}\n"
     ]
    }
   ],
   "source": [
    "print(grid.best_params_)"
   ]
  },
  {
   "cell_type": "markdown",
   "metadata": {},
   "source": [
    "# Predicting Model"
   ]
  },
  {
   "cell_type": "code",
<<<<<<< HEAD
   "execution_count": 33,
=======
   "execution_count": 23,
>>>>>>> dc3a1e4a7aa5b733c77f61b64a895fd1bb753baf
   "metadata": {},
   "outputs": [
    {
     "data": {
      "text/html": [
       "<div>\n",
       "<style scoped>\n",
       "    .dataframe tbody tr th:only-of-type {\n",
       "        vertical-align: middle;\n",
       "    }\n",
       "\n",
       "    .dataframe tbody tr th {\n",
       "        vertical-align: top;\n",
       "    }\n",
       "\n",
       "    .dataframe thead th {\n",
       "        text-align: right;\n",
       "    }\n",
       "</style>\n",
       "<table border=\"1\" class=\"dataframe\">\n",
       "  <thead>\n",
       "    <tr style=\"text-align: right;\">\n",
       "      <th></th>\n",
       "      <th>mean_test_score</th>\n",
       "      <th>std_test_score</th>\n",
       "      <th>params</th>\n",
       "    </tr>\n",
       "  </thead>\n",
       "  <tbody>\n",
       "    <tr>\n",
       "      <th>0</th>\n",
       "      <td>0.910256</td>\n",
       "      <td>0.026893</td>\n",
       "      <td>{'n_neighbors': 1}</td>\n",
       "    </tr>\n",
       "    <tr>\n",
       "      <th>1</th>\n",
       "      <td>0.887179</td>\n",
       "      <td>0.024860</td>\n",
       "      <td>{'n_neighbors': 2}</td>\n",
       "    </tr>\n",
       "    <tr>\n",
       "      <th>2</th>\n",
       "      <td>0.902564</td>\n",
       "      <td>0.028782</td>\n",
       "      <td>{'n_neighbors': 3}</td>\n",
       "    </tr>\n",
       "    <tr>\n",
       "      <th>3</th>\n",
       "      <td>0.858974</td>\n",
       "      <td>0.026893</td>\n",
       "      <td>{'n_neighbors': 4}</td>\n",
       "    </tr>\n",
       "    <tr>\n",
       "      <th>4</th>\n",
       "      <td>0.853846</td>\n",
       "      <td>0.034017</td>\n",
       "      <td>{'n_neighbors': 5}</td>\n",
       "    </tr>\n",
       "  </tbody>\n",
       "</table>\n",
       "</div>"
      ],
      "text/plain": [
       "   mean_test_score  std_test_score              params\n",
       "0         0.910256        0.026893  {'n_neighbors': 1}\n",
       "1         0.887179        0.024860  {'n_neighbors': 2}\n",
       "2         0.902564        0.028782  {'n_neighbors': 3}\n",
       "3         0.858974        0.026893  {'n_neighbors': 4}\n",
       "4         0.853846        0.034017  {'n_neighbors': 5}"
      ]
     },
<<<<<<< HEAD
     "execution_count": 33,
=======
     "execution_count": 23,
>>>>>>> dc3a1e4a7aa5b733c77f61b64a895fd1bb753baf
     "metadata": {},
     "output_type": "execute_result"
    }
   ],
   "source": [
    "# Make predictions with the hypertuned model\n",
    "pd.DataFrame(grid.cv_results_)[['mean_test_score', 'std_test_score', 'params']][: 5]\n"
   ]
  },
  {
   "cell_type": "code",
<<<<<<< HEAD
   "execution_count": 34,
=======
   "execution_count": 24,
>>>>>>> dc3a1e4a7aa5b733c77f61b64a895fd1bb753baf
   "metadata": {
    "scrolled": false
   },
   "outputs": [
    {
     "name": "stdout",
     "output_type": "stream",
     "text": [
      "Test Accuracy: 0.931\n"
     ]
    }
   ],
   "source": [
    " print('Test Accuracy: %.3f' % grid.score(X_test, y_test))"
   ]
  },
  {
   "cell_type": "code",
<<<<<<< HEAD
   "execution_count": 35,
=======
   "execution_count": 25,
>>>>>>> dc3a1e4a7aa5b733c77f61b64a895fd1bb753baf
   "metadata": {
    "scrolled": true
   },
   "outputs": [
    {
     "name": "stdout",
     "output_type": "stream",
     "text": [
      "Train Accuracy: 1.000\n"
     ]
    }
   ],
   "source": [
    "print('Train Accuracy: %.3f' % grid.score(X_train, y_train))"
   ]
  },
  {
   "cell_type": "code",
<<<<<<< HEAD
   "execution_count": 36,
=======
   "execution_count": 26,
>>>>>>> dc3a1e4a7aa5b733c77f61b64a895fd1bb753baf
   "metadata": {},
   "outputs": [
    {
     "data": {
      "text/plain": [
       "Text(0, 0.5, 'Cross validated Accuracy')"
      ]
     },
<<<<<<< HEAD
     "execution_count": 36,
=======
     "execution_count": 26,
>>>>>>> dc3a1e4a7aa5b733c77f61b64a895fd1bb753baf
     "metadata": {},
     "output_type": "execute_result"
    },
    {
     "data": {
<<<<<<< HEAD
      "image/png": "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\n",
=======
      "image/png": "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\n",
>>>>>>> dc3a1e4a7aa5b733c77f61b64a895fd1bb753baf
      "text/plain": [
       "<Figure size 432x288 with 1 Axes>"
      ]
     },
     "metadata": {
      "needs_background": "light"
     },
     "output_type": "display_data"
    }
   ],
   "source": [
    "plt.plot(k_range, grid.cv_results_['mean_test_score'])\n",
    "plt.xlabel('Value of KNN')\n",
    "plt.ylabel('Cross validated Accuracy')"
   ]
  },
  {
   "cell_type": "code",
<<<<<<< HEAD
   "execution_count": 37,
=======
   "execution_count": 27,
>>>>>>> dc3a1e4a7aa5b733c77f61b64a895fd1bb753baf
   "metadata": {
    "scrolled": true
   },
   "outputs": [
    {
     "name": "stdout",
     "output_type": "stream",
     "text": [
      "              precision    recall  f1-score   support\n",
      "\n",
      "    Positive       0.75      0.96      0.84        46\n",
      "    Negative       0.97      0.82      0.89        84\n",
      "\n",
      "    accuracy                           0.87       130\n",
      "   macro avg       0.86      0.89      0.86       130\n",
      "weighted avg       0.89      0.87      0.87       130\n",
      "\n"
     ]
    }
   ],
   "source": [
    "from sklearn.metrics import classification_report\n",
    "print(classification_report(y_test, prediction,\n",
    "                            target_names=[\"Positive\", \"Negative\"]))"
   ]
  },
  {
   "cell_type": "code",
<<<<<<< HEAD
   "execution_count": 38,
=======
   "execution_count": 28,
>>>>>>> dc3a1e4a7aa5b733c77f61b64a895fd1bb753baf
   "metadata": {},
   "outputs": [
    {
     "data": {
      "text/plain": [
       "['grid.joblib']"
      ]
     },
<<<<<<< HEAD
     "execution_count": 38,
=======
     "execution_count": 28,
>>>>>>> dc3a1e4a7aa5b733c77f61b64a895fd1bb753baf
     "metadata": {},
     "output_type": "execute_result"
    }
   ],
   "source": [
    "#SAVE Model\n",
    "import joblib\n",
    "filename = 'grid.joblib'\n",
    "joblib.dump(grid, filename)"
   ]
  },
  {
   "cell_type": "code",
   "execution_count": null,
   "metadata": {},
   "outputs": [],
   "source": []
  }
 ],
 "metadata": {
  "kernelspec": {
   "display_name": "Python 3",
   "language": "python",
   "name": "python3"
  },
  "language_info": {
   "codemirror_mode": {
    "name": "ipython",
    "version": 3
   },
   "file_extension": ".py",
   "mimetype": "text/x-python",
   "name": "python",
   "nbconvert_exporter": "python",
   "pygments_lexer": "ipython3",
   "version": "3.6.12"
  }
 },
 "nbformat": 4,
 "nbformat_minor": 5
}
